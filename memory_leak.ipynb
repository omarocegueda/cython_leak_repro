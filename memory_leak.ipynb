{
 "cells": [
  {
   "cell_type": "code",
   "execution_count": 1,
   "metadata": {
    "collapsed": true
   },
   "outputs": [],
   "source": [
    "import numpy as np\n",
    "import psutil\n",
    "import gc\n",
    "from example import leak, noleak"
   ]
  },
  {
   "cell_type": "code",
   "execution_count": 2,
   "metadata": {
    "collapsed": false
   },
   "outputs": [
    {
     "name": "stdout",
     "output_type": "stream",
     "text": [
      "Free memory: 18 %\n",
      "Free memory: 19 %\n",
      "Free memory: 19 %\n",
      "Free memory: 20 %\n",
      "Free memory: 21 %\n",
      "Free memory: 22 %\n",
      "Free memory: 23 %\n",
      "Free memory: 23 %\n",
      "Free memory: 24 %\n",
      "Free memory: 25 %\n",
      "Free memory: 26 %\n",
      "Free memory: 27 %\n",
      "Free memory: 27 %\n",
      "Free memory: 28 %\n",
      "Free memory: 29 %\n",
      "Free memory: 29 %\n",
      "Free memory: 30 %\n",
      "Free memory: 31 %\n",
      "Free memory: 32 %\n",
      "Free memory: 33 %\n",
      "Free memory: 33 %\n",
      "Free memory: 34 %\n",
      "Free memory: 35 %\n",
      "Free memory: 36 %\n",
      "Free memory: 36 %\n",
      "Free memory: 37 %\n",
      "Free memory: 38 %\n",
      "Free memory: 39 %\n",
      "Free memory: 40 %\n",
      "Free memory: 40 %\n"
     ]
    }
   ],
   "source": [
    "# Memory leak\n",
    "shape = np.array([200,200,200,3], dtype=np.int32)\n",
    "niter = 30\n",
    "for i in range(niter):\n",
    "    # Create a buffer from cython\n",
    "    b = leak(shape)\n",
    "    # Make a copy and delete\n",
    "    bcopy = b[...,1].copy()\n",
    "    del bcopy\n",
    "    del b\n",
    "    gc.collect()\n",
    "    # Print the percentage of free memory\n",
    "    print('Free memory: %d %%'%(psutil.virtual_memory()[2],))"
   ]
  },
  {
   "cell_type": "code",
   "execution_count": 3,
   "metadata": {
    "collapsed": false
   },
   "outputs": [
    {
     "name": "stdout",
     "output_type": "stream",
     "text": [
      "Free memory: 40 %\n",
      "Free memory: 40 %\n",
      "Free memory: 40 %\n",
      "Free memory: 40 %\n",
      "Free memory: 40 %\n",
      "Free memory: 40 %\n",
      "Free memory: 40 %\n",
      "Free memory: 40 %\n",
      "Free memory: 40 %\n",
      "Free memory: 40 %\n",
      "Free memory: 40 %\n",
      "Free memory: 40 %\n",
      "Free memory: 40 %\n",
      "Free memory: 40 %\n",
      "Free memory: 40 %\n",
      "Free memory: 40 %\n",
      "Free memory: 40 %\n",
      "Free memory: 40 %\n",
      "Free memory: 40 %\n",
      "Free memory: 40 %\n",
      "Free memory: 40 %\n",
      "Free memory: 40 %\n",
      "Free memory: 40 %\n",
      "Free memory: 40 %\n",
      "Free memory: 40 %\n",
      "Free memory: 40 %\n",
      "Free memory: 40 %\n",
      "Free memory: 40 %\n",
      "Free memory: 40 %\n",
      "Free memory: 40 %\n"
     ]
    }
   ],
   "source": [
    "# Workaround\n",
    "shape = np.array([200,200,200,3], dtype=np.int32)\n",
    "niter = 30\n",
    "for i in range(niter):\n",
    "    # Create the temporary buffer in python\n",
    "    b = np.empty(shape=tuple(shape), dtype=np.float64)\n",
    "    # Use the buffer instead of creating it from cython\n",
    "    noleak(shape, b)\n",
    "    # Make a copy and delete\n",
    "    bcopy = b[...,1].copy()\n",
    "    del bcopy\n",
    "    del b\n",
    "    gc.collect()\n",
    "    # Print the percentage of free memory\n",
    "    print(\"Free memory: %d %%\"%(psutil.virtual_memory()[2],))"
   ]
  },
  {
   "cell_type": "code",
   "execution_count": null,
   "metadata": {
    "collapsed": true
   },
   "outputs": [],
   "source": []
  }
 ],
 "metadata": {
  "kernelspec": {
   "display_name": "Python 2",
   "language": "python",
   "name": "python2"
  },
  "language_info": {
   "codemirror_mode": {
    "name": "ipython",
    "version": 2
   },
   "file_extension": ".py",
   "mimetype": "text/x-python",
   "name": "python",
   "nbconvert_exporter": "python",
   "pygments_lexer": "ipython2",
   "version": "2.7.6"
  }
 },
 "nbformat": 4,
 "nbformat_minor": 0
}
